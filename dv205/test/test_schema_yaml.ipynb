{
 "cells": [
  {
   "cell_type": "code",
   "execution_count": 1,
   "metadata": {},
   "outputs": [],
   "source": [
    "import yaml\n",
    "import glob\n",
    "import re\n",
    "\n",
    "\n"
   ]
  },
  {
   "cell_type": "code",
   "execution_count": 5,
   "metadata": {},
   "outputs": [
    {
     "name": "stdout",
     "output_type": "stream",
     "text": [
      "['..\\\\schema-205\\\\schema-source\\\\RS0001.schema.yaml', '..\\\\schema-205\\\\schema-source\\\\RS0002.schema.yaml', '..\\\\schema-205\\\\schema-source\\\\RS0003.schema.yaml', '..\\\\schema-205\\\\schema-source\\\\RS0004.schema.yaml', '..\\\\schema-205\\\\schema-source\\\\RS0005.schema.yaml', '..\\\\schema-205\\\\schema-source\\\\RS0006.schema.yaml', '..\\\\schema-205\\\\schema-source\\\\RS0007.schema.yaml']\n"
     ]
    }
   ],
   "source": [
    "dir_path = r'..\\schema-205\\schema-source\\rs*.schema.yaml'\n",
    "files = glob.glob(dir_path)\n",
    "print(files)\n"
   ]
  },
  {
   "cell_type": "code",
   "execution_count": 3,
   "metadata": {},
   "outputs": [
    {
     "name": "stdout",
     "output_type": "stream",
     "text": [
      "RAE205\n",
      "RS0001\n",
      "RS0002\n",
      "RS0003\n",
      "RS0004\n",
      "RS0005\n",
      "RS0006\n",
      "RS0007\n"
     ]
    }
   ],
   "source": [
    "rs_list = []\n",
    "schemas = {}\n",
    "for file in files:\n",
    "    with open(file, 'r') as input_file:\n",
    "        rs = file[-18:][0:6]\n",
    "        rs_list.append(rs)\n",
    "        print(rs)\n",
    "        schemas[rs] = yaml.load(input_file, Loader=yaml.FullLoader)\n"
   ]
  },
  {
   "cell_type": "code",
   "execution_count": 4,
   "metadata": {},
   "outputs": [
    {
     "data": {
      "text/plain": [
       "['RAE205',\n",
       " 'RS0001',\n",
       " 'RS0002',\n",
       " 'RS0003',\n",
       " 'RS0004',\n",
       " 'RS0005',\n",
       " 'RS0006',\n",
       " 'RS0007']"
      ]
     },
     "execution_count": 4,
     "metadata": {},
     "output_type": "execute_result"
    }
   ],
   "source": [
    "rs_list"
   ]
  },
  {
   "cell_type": "code",
   "execution_count": 4,
   "metadata": {},
   "outputs": [
    {
     "data": {
      "text/plain": [
       "['stuff', 'stuff2']"
      ]
     },
     "execution_count": 4,
     "metadata": {},
     "output_type": "execute_result"
    }
   ],
   "source": [
    "def extract_itemnames(string):\n",
    "    substring = string.strip(\"()\").replace(\"{\",\"\").replace(\"}\",\"\").replace(\" \",\"\")\n",
    "    item = substring.split(\",\")\n",
    "    return item\n",
    "\n",
    "extract_itemnames(\"({stuff}, {stuff2})\")"
   ]
  },
  {
   "cell_type": "code",
   "execution_count": 42,
   "metadata": {},
   "outputs": [
    {
     "data": {
      "text/plain": [
       "{'outdoor_coil_entering_dry_bulb_temperature': {'units': 'K',\n",
       "  'short_name': 'out_coi_ent_dry_bul_tem'},\n",
       " 'indoor_coil_entering_relative_humidity': {'units': '-',\n",
       "  'short_name': 'ind_coi_ent_rel_hum'},\n",
       " 'indoor_coil_entering_dry_bulb_temperature': {'units': 'K',\n",
       "  'short_name': 'ind_coi_ent_dry_bul_tem'},\n",
       " 'indoor_coil_air_mass_flow_rate': {'units': 'kg/s',\n",
       "  'short_name': 'ind_coi_air_mas_flo_rat'},\n",
       " 'compressor_sequence_number': {'units': '-', 'short_name': 'com_seq_num'},\n",
       " 'ambient_absolute_air_pressure': {'units': 'Pa',\n",
       "  'short_name': 'amb_abs_air_pre'}}"
      ]
     },
     "execution_count": 42,
     "metadata": {},
     "output_type": "execute_result"
    }
   ],
   "source": [
    "\n",
    "def extract_grid_variables(rs, map):\n",
    "\n",
    "    grid_var_list = rs[map][\"Data Elements\"][\"grid_variables\"][\"Data Type\"].strip(\"{}\")\n",
    "    grid_variables={}\n",
    "    for var in list(rs[grid_var_list][\"Data Elements\"].keys()):\n",
    "        grid_variables[var] = {\"units\": rs[grid_var_list][\"Data Elements\"][var][\"Units\"],\n",
    "                            \"short_name\": shorten_name(var)}\n",
    "\n",
    "    return grid_variables\n",
    "\n",
    "extract_grid_variables(schemas[\"RS0004\"],\"PerformanceMapCooling\")"
   ]
  },
  {
   "cell_type": "code",
   "execution_count": 6,
   "metadata": {},
   "outputs": [],
   "source": [
    "def camel_to_snake_case(camel):\n",
    "    # From https://www.geeksforgeeks.org/python-program-to-convert-camel-case-string-to-snake-case/\n",
    "     \n",
    "    snake = ''.join(['_'+i.lower() if i.isupper()\n",
    "               else i for i in camel]).lstrip('_')\n",
    "\n",
    "    return snake"
   ]
  },
  {
   "cell_type": "code",
   "execution_count": 8,
   "metadata": {},
   "outputs": [
    {
     "data": {
      "text/plain": [
       "{'RS0001': {'performance_map_cooling': {'evaporator_liquid_volumetric_flow_rate': 'm3/s',\n",
       "   'evaporator_liquid_leaving_temperature': 'K',\n",
       "   'condenser_liquid_volumetric_flow_rate': 'm3/s',\n",
       "   'condenser_liquid_entering_temperature': 'K',\n",
       "   'compressor_sequence_number': '-'},\n",
       "  'performance_map_standby': {'environment_dry_bulb_temperature': 'K'}},\n",
       " 'RS0002': {},\n",
       " 'RS0003': {'performance_map_continuous': {'standard_air_volumetric_flow_rate': 'm3/s',\n",
       "   'static_pressure_difference': 'Pa'},\n",
       "  'performance_map_discrete': {'speed_number': '-',\n",
       "   'static_pressure_difference': 'Pa'}},\n",
       " 'RS0004': {'performance_map_cooling': {'outdoor_coil_entering_dry_bulb_temperature': 'K',\n",
       "   'indoor_coil_entering_relative_humidity': '-',\n",
       "   'indoor_coil_entering_dry_bulb_temperature': 'K',\n",
       "   'indoor_coil_air_mass_flow_rate': 'kg/s',\n",
       "   'compressor_sequence_number': '-',\n",
       "   'ambient_absolute_air_pressure': 'Pa'},\n",
       "  'performance_map_standby': {'outdoor_coil_environment_dry_bulb_temperature': 'K'}},\n",
       " 'RS0005': {'performance_map': {'shaft_power': 'W',\n",
       "   'shaft_rotational_speed': 'rev/s'}},\n",
       " 'RS0006': {'performance_map': {'output_power': 'W',\n",
       "   'output_frequency': 'Hz'}},\n",
       " 'RS0007': {'performance_map': {'output_power': 'W'}}}"
      ]
     },
     "execution_count": 8,
     "metadata": {},
     "output_type": "execute_result"
    }
   ],
   "source": [
    "rs_dict = {}\n",
    "for rs in rs_list:\n",
    "    rs_dict[rs]={}\n",
    "    perf_elements = list(schemas[rs][\"Performance\"][\"Data Elements\"].keys())\n",
    "    for element in perf_elements:\n",
    "        if \"performance_map\" in element:\n",
    "            maps = extract_itemnames(schemas[rs][\"Performance\"][\"Data Elements\"][element][\"Data Type\"])\n",
    "            for map in maps:\n",
    "                snake_map = camel_to_snake_case(map)\n",
    "                rs_dict[rs][snake_map]=extract_grid_variables(schemas[rs],map)\n",
    "\n",
    "rs_dict"
   ]
  },
  {
   "cell_type": "code",
   "execution_count": 9,
   "metadata": {},
   "outputs": [
    {
     "data": {
      "text/plain": [
       "{'RS0001': {'performance_map_cooling': {'evaporator_liquid_volumetric_flow_rate': 'm3/s',\n",
       "   'evaporator_liquid_leaving_temperature': 'K',\n",
       "   'condenser_liquid_volumetric_flow_rate': 'm3/s',\n",
       "   'condenser_liquid_entering_temperature': 'K',\n",
       "   'compressor_sequence_number': '-'},\n",
       "  'performance_map_standby': {'environment_dry_bulb_temperature': 'K'}},\n",
       " 'RS0002': {},\n",
       " 'RS0003': {'performance_map_continuous': {'standard_air_volumetric_flow_rate': 'm3/s',\n",
       "   'static_pressure_difference': 'Pa'},\n",
       "  'performance_map_discrete': {'speed_number': '-',\n",
       "   'static_pressure_difference': 'Pa'}},\n",
       " 'RS0004': {'performance_map_cooling': {'outdoor_coil_entering_dry_bulb_temperature': 'K',\n",
       "   'indoor_coil_entering_relative_humidity': '-',\n",
       "   'indoor_coil_entering_dry_bulb_temperature': 'K',\n",
       "   'indoor_coil_air_mass_flow_rate': 'kg/s',\n",
       "   'compressor_sequence_number': '-',\n",
       "   'ambient_absolute_air_pressure': 'Pa'},\n",
       "  'performance_map_standby': {'outdoor_coil_environment_dry_bulb_temperature': 'K'}},\n",
       " 'RS0005': {'performance_map': {'shaft_power': 'W',\n",
       "   'shaft_rotational_speed': 'rev/s'}},\n",
       " 'RS0006': {'performance_map': {'output_power': 'W',\n",
       "   'output_frequency': 'Hz'}},\n",
       " 'RS0007': {'performance_map': {'output_power': 'W'}}}"
      ]
     },
     "execution_count": 9,
     "metadata": {},
     "output_type": "execute_result"
    }
   ],
   "source": [
    "rs_dict"
   ]
  },
  {
   "cell_type": "code",
   "execution_count": 43,
   "metadata": {},
   "outputs": [
    {
     "data": {
      "text/plain": [
       "'out_coi_ent_dry_bul_tem'"
      ]
     },
     "execution_count": 43,
     "metadata": {},
     "output_type": "execute_result"
    }
   ],
   "source": [
    "def shorten_name(string):\n",
    "    # routine to shorten a snake case name to first 3 letters of each word\n",
    "    short_words = [word[:3] for word in string.split(\"_\")]\n",
    "    short_string = \"_\".join(short_words)\n",
    "\n",
    "    return short_string\n",
    "\n",
    "shorten_name(\"outdoor_coil_entering_dry_bulb_temperature\")"
   ]
  },
  {
   "cell_type": "code",
   "execution_count": 56,
   "metadata": {},
   "outputs": [
    {
     "data": {
      "text/plain": [
       "'out_coil_ent_Tdb'"
      ]
     },
     "execution_count": 56,
     "metadata": {},
     "output_type": "execute_result"
    }
   ],
   "source": [
    "def shorten_name2(string):\n",
    "    # routine to shorten a snake case name to first 3 letters of each word\n",
    "\n",
    "    # do this with pattern matching for a \"smart\" shortening\n",
    "    dict={\"dry_bulb_temperature\": \"Tdb\",\n",
    "         \"wet_bulb_temperature\": \"Twb\",\n",
    "         \"indoor_coil\": \"in_coil\",\n",
    "         \"outdoor_coil\": \"out_coil\",\n",
    "         \"absolute_air_pressure\": \"Pabs\",\n",
    "         \"mass_flow_rate\": \"Mdot\",\n",
    "         \"volumetric_flow_rate\": \"Vdot\",\n",
    "         \"pressure_difference\": \"Pdiff\",\n",
    "         \"entering\": \"ent\",\n",
    "         \"leaving\": \"leav\",\n",
    "         \"exiting\": \"exit\",\n",
    "         \"ambient\": \"amb\",\n",
    "         \"power\": \"pow\",\n",
    "         \"frequency\": \"freq\",\n",
    "         \"relative_humidity\": \"RH\",\n",
    "         \"indoor\": \"in\",\n",
    "         \"outdoor\": \"out\",\n",
    "         \"total\": \"tot\",\n",
    "         \"latent\": \"lat\",\n",
    "         \"sensible\": \"sens\",\n",
    "         \"capacity\": \"cap\",\n",
    "         \"enviornment\": \"env\",\n",
    "         \"compressor\": \"comp\",\n",
    "         \"sequence\": \"seq\",\n",
    "         \"number\": \"num\",\n",
    "         \"rotational\": \"rot\",\n",
    "         \"auxiliary\": \"aux\",\n",
    "         \"evaporator\": \"evap\",\n",
    "         \"condenser\": \"cond\",\n",
    "         \"liquid\": \"liq\",\n",
    "         \"standard\": \"std\",\n",
    "         \"static\": \"stat\",\n",
    "         \"pressure\": \"pres\",\n",
    "         \"difference\": \"diff\",\n",
    "         \"impeller\": \"imp\",\n",
    "         \"input\": \"in\",\n",
    "         \"output\": \"out\",\n",
    "         }\n",
    "    short_string = string\n",
    "    for word in dict:\n",
    "        short_string = re.sub(word, dict[word], short_string)\n",
    "\n",
    "    return short_string\n",
    "\n",
    "shorten_name2(\"outdoor_coil_entering_dry_bulb_temperature\")"
   ]
  },
  {
   "cell_type": "code",
   "execution_count": 24,
   "metadata": {},
   "outputs": [
    {
     "data": {
      "text/plain": [
       "['test', 'word', 'happy', 'and', 'veryhappy']"
      ]
     },
     "execution_count": 24,
     "metadata": {},
     "output_type": "execute_result"
    }
   ],
   "source": [
    "a = \"test_word_happy_and_veryhappy\"\n",
    "a.rsplit(\"_\")"
   ]
  },
  {
   "cell_type": "code",
   "execution_count": 57,
   "metadata": {},
   "outputs": [
    {
     "ename": "NameError",
     "evalue": "name 'rs_in' is not defined",
     "output_type": "error",
     "traceback": [
      "\u001b[1;31m---------------------------------------------------------------------------\u001b[0m",
      "\u001b[1;31mNameError\u001b[0m                                 Traceback (most recent call last)",
      "\u001b[1;32mc:\\Git\\205_data_viewer\\schema\\test_schema_yaml.ipynb Cell 13\u001b[0m in \u001b[0;36m<cell line: 1>\u001b[1;34m()\u001b[0m\n\u001b[1;32m----> <a href='vscode-notebook-cell:/c%3A/Git/205_data_viewer/schema/test_schema_yaml.ipynb#X15sZmlsZQ%3D%3D?line=0'>1</a>\u001b[0m rs_in\n",
      "\u001b[1;31mNameError\u001b[0m: name 'rs_in' is not defined"
     ]
    }
   ],
   "source": [
    "rs_in"
   ]
  },
  {
   "cell_type": "code",
   "execution_count": null,
   "metadata": {},
   "outputs": [],
   "source": []
  }
 ],
 "metadata": {
  "kernelspec": {
   "display_name": "Python 3.9.12 ('hpdm')",
   "language": "python",
   "name": "python3"
  },
  "language_info": {
   "codemirror_mode": {
    "name": "ipython",
    "version": 3
   },
   "file_extension": ".py",
   "mimetype": "text/x-python",
   "name": "python",
   "nbconvert_exporter": "python",
   "pygments_lexer": "ipython3",
   "version": "3.9.12"
  },
  "orig_nbformat": 4,
  "vscode": {
   "interpreter": {
    "hash": "cbd925ee077f2bc34551382ae01247b5e4bb13db7827ae068026589f73adecb3"
   }
  }
 },
 "nbformat": 4,
 "nbformat_minor": 2
}
